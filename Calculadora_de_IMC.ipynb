{
  "nbformat": 4,
  "nbformat_minor": 0,
  "metadata": {
    "colab": {
      "name": "Calculadora de IMC.ipynb",
      "provenance": [],
      "authorship_tag": "ABX9TyNGhimFS8DL4gzpGmhUQmrd",
      "include_colab_link": true
    },
    "kernelspec": {
      "name": "python3",
      "display_name": "Python 3"
    }
  },
  "cells": [
    {
      "cell_type": "markdown",
      "metadata": {
        "id": "view-in-github",
        "colab_type": "text"
      },
      "source": [
        "<a href=\"https://colab.research.google.com/github/fernanda993/Kivy/blob/master/Calculadora_de_IMC.ipynb\" target=\"_parent\"><img src=\"https://colab.research.google.com/assets/colab-badge.svg\" alt=\"Open In Colab\"/></a>"
      ]
    },
    {
      "cell_type": "markdown",
      "metadata": {
        "id": "zHAQ59xCFEsB",
        "colab_type": "text"
      },
      "source": [
        "##Calculo IMC##"
      ]
    },
    {
      "cell_type": "code",
      "metadata": {
        "id": "_F3H3Hq8r3Zf",
        "colab_type": "code",
        "colab": {
          "base_uri": "https://localhost:8080/",
          "height": 235
        },
        "outputId": "6e2baee5-6bce-4621-e1d1-153bb67eba5b"
      },
      "source": [
        "print('Olá, qual o seu nome?')\n",
        "nome = input('>> ')\n",
        "nome = nome.title()\n",
        "\n",
        "if nome == 'Fernanda':\n",
        "  print('Eaew xará ')\n",
        "else:\n",
        "  print('Muito prazer ' + nome)\n",
        "\n",
        "print('Informe sua altura em Metros (m).')\n",
        "altura = float (input('>> '))\n",
        "\n",
        "print('Informe seu peso atual em quilos (Kg).')\n",
        "peso = float (input('>> '))\n",
        "\n",
        "titulo = '\\033[1m' + '\\n  O que pode acontecer: \\n' + '\\033[0m'\n",
        "\n",
        "def lin():\n",
        "  print('-'*30)\n",
        "\n",
        "\n",
        "imc = peso / altura**2\n",
        "\n",
        "lin()\n",
        "print('Seu IMC é: ', imc)\n",
        "lin()\n",
        "\n",
        "\n",
        "if imc <= 17 :\n",
        "  print('\\033[91m' + '\\033[1m' + 'Muito abaixo do peso '+'\\033[0m' + titulo + '    Queda de cabelo, infertilidade, ausência menstrual')\n",
        "elif imc <= 18 :\n",
        "  print('\\033[91m' + '\\033[1m' + 'Abaixo do peso '+'\\033[0m' + titulo + '    Fadiga, stress, ansiedade')\n",
        "elif imc < 25 :\n",
        "  print('\\033[91m' + '\\033[1m' + 'Peso normal\t'+'\\033[0m' + titulo + '    Menor risco de doenças cardíacas e vasculares')\n",
        "elif imc < 30 :\n",
        "  print('\\033[91m' + '\\033[1m' + 'Acima do peso\t'+'\\033[0m' + titulo + '    Fadiga, má circulação, varizes')\n",
        "elif imc < 35 :\n",
        "  print('\\033[91m' + '\\033[1m' + 'PeObesidade Grau I\t'+'\\033[0m' + titulo + '    Diabetes, angina, infarto, aterosclerose')\n",
        "elif imc < 40 :\n",
        "  print('\\033[91m' + '\\033[1m' + 'Obesidade Grau II\t'+'\\033[0m' + titulo + '    \tApneia do sono, falta de ar')\n",
        "elif imc > 40 :\n",
        "  print('\\033[91m' + '\\033[1m' + 'Obesidade Grau III\t'+'\\033[0m' + titulo + '    Refluxo, dificuldade para se mover, escaras, diabetes, infarto, AVC')"
      ],
      "execution_count": 88,
      "outputs": [
        {
          "output_type": "stream",
          "text": [
            "Olá, qual o seu nome?\n",
            ">> laura\n",
            "Muito prazer Laura\n",
            "Informe sua altura em Metros (m).\n",
            ">> 1.75\n",
            "Informe seu peso atual em quilos (Kg).\n",
            ">> 75\n",
            "------------------------------\n",
            "Seu IMC é:  24.489795918367346\n",
            "------------------------------\n",
            "\u001b[91m\u001b[1mPeso normal\t\u001b[0m\u001b[1m\n",
            "  O que pode acontecer: \n",
            "\u001b[0m    Menor risco de doenças cardíacas e vasculares\n"
          ],
          "name": "stdout"
        }
      ]
    },
    {
      "cell_type": "markdown",
      "metadata": {
        "id": "g5Oys-x-FKCC",
        "colab_type": "text"
      },
      "source": [
        "**Teste cores em negrito**\n",
        "\n",
        "    > class color:\n",
        "       PURPLE = '\\033[95m'\n",
        "       CYAN = '\\033[96m'\n",
        "       DARKCYAN = '\\033[36m'\n",
        "       BLUE = '\\033[94m'\n",
        "       GREEN = '\\033[92m'\n",
        "       YELLOW = '\\033[93m'\n",
        "       RED = '\\033[91m'\n",
        "       BOLD = '\\033[1m'\n",
        "       UNDERLINE = '\\033[4m'\n",
        "       END = '\\033[0m'\n",
        "      print color.BOLD + 'Hello World !' + color.END\n",
        "\n",
        "\n",
        "**- Teste de quebra de linha**\n",
        "\n"
      ]
    },
    {
      "cell_type": "code",
      "metadata": {
        "id": "9-OAYrEqFQoE",
        "colab_type": "code",
        "colab": {
          "base_uri": "https://localhost:8080/",
          "height": 185
        },
        "outputId": "1206bef2-a26c-40fd-f775-e17ea50e4872"
      },
      "source": [
        "print ('\\033[1m' + 'Hello')\n",
        "print ('\\033[95m' + 'Hi')\n",
        "print ('\\033[96m' + 'bye')\n",
        "print ('\\033[36m' + 'bye bye')\n",
        "print ('\\033[94m' + 'Blue')\n",
        "print ('\\033[92m' + 'Green')\n",
        "print ('\\033[93m' + 'Yellow')\n",
        "print ('\\033[91m' + 'Red')\n",
        "print ('\\033[4m' + 'UNDERLINE')\n",
        "print ('\\033[0m'+ 'END')"
      ],
      "execution_count": 78,
      "outputs": [
        {
          "output_type": "stream",
          "text": [
            "\u001b[1mHello\n",
            "\u001b[95mHi\n",
            "\u001b[96mbye\n",
            "\u001b[36mbye bye\n",
            "\u001b[94mBlue\n",
            "\u001b[92mGreen\n",
            "\u001b[93mYellow\n",
            "\u001b[91mRed\n",
            "\u001b[4mUNDERLINE\n",
            "\u001b[0mEND\n"
          ],
          "name": "stdout"
        }
      ]
    },
    {
      "cell_type": "code",
      "metadata": {
        "id": "YIdmQBEXOOQd",
        "colab_type": "code",
        "colab": {
          "base_uri": "https://localhost:8080/",
          "height": 50
        },
        "outputId": "bee7a4e5-9114-4752-b94d-7c1517ee2130"
      },
      "source": [
        "print ('\\033[4m' + 'Teste de ' + '\\n quebra de linha')"
      ],
      "execution_count": 79,
      "outputs": [
        {
          "output_type": "stream",
          "text": [
            "\u001b[4mTeste de \n",
            " quebra de linha\n"
          ],
          "name": "stdout"
        }
      ]
    }
  ]
}